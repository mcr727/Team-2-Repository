{
 "cells": [
  {
   "cell_type": "code",
   "execution_count": 22,
   "metadata": {},
   "outputs": [],
   "source": [
    "#For this project, we decided to place our focus on Covid19/Coronavirus and the effects it had on the MTA ridership, Citibike usage and Uber/Lyft\n",
    "#In this project, we would like to compare and contrast ridership data of when Covid began to where we stand with Covid in Aug 2020\n",
    "#For the first part of the project, we will like to focus on the MTA \n",
    "#For the second part of the project, we will focus on CitiBike\n",
    "#For "
   ]
  },
  {
   "cell_type": "code",
   "execution_count": 27,
   "metadata": {},
   "outputs": [
    {
     "name": "stdout",
     "output_type": "stream",
     "text": [
      "   tripduration                 starttime                  stoptime  \\\n",
      "0           389  2020-03-01 00:14:07.0000  2020-03-01 00:20:36.0880   \n",
      "1           242  2020-03-01 00:48:06.4390  2020-03-01 00:52:08.9870   \n",
      "2           124  2020-03-01 01:08:46.4880  2020-03-01 01:10:51.2780   \n",
      "3           104  2020-03-01 01:22:35.4790  2020-03-01 01:24:20.2470   \n",
      "4           228  2020-03-01 01:39:20.2680  2020-03-01 01:43:09.1380   \n",
      "\n",
      "   start station id start station name  start station latitude  \\\n",
      "0              3202       Newport PATH               40.727224   \n",
      "1              3185          City Hall               40.717733   \n",
      "2              3272       Jersey & 3rd               40.723332   \n",
      "3              3202       Newport PATH               40.727224   \n",
      "4              3194    McGinley Square               40.725340   \n",
      "\n",
      "   start station longitude end station id   end station name  \\\n",
      "0               -74.033759           3203      Hamilton Park   \n",
      "1               -74.043845           3205  JC Medical Center   \n",
      "2               -74.045953           3278   Monmouth and 6th   \n",
      "3               -74.033759           3638      Washington St   \n",
      "4               -74.067622           3280        Astor Place   \n",
      "\n",
      "   end station latitude  ...  start station latitude  start station longitude  \\\n",
      "0             40.727596  ...               40.717733               -74.043845   \n",
      "1             40.716540  ...               40.719586               -74.043117   \n",
      "2             40.725685  ...               40.719586               -74.043117   \n",
      "3             40.724294  ...               40.717733               -74.043845   \n",
      "4             40.719282  ...               40.717733               -74.043845   \n",
      "\n",
      "  end station id  end station name  end station latitude  \\\n",
      "0           3185         City Hall             40.717733   \n",
      "1           3270   Jersey & 6th St             40.725289   \n",
      "2           3203     Hamilton Park             40.727596   \n",
      "3           3185         City Hall             40.717733   \n",
      "4           3185         City Hall             40.717733   \n",
      "\n",
      "   end station longitude bikeid    usertype  birth year gender  \n",
      "0             -74.043845  42303    Customer        1994      2  \n",
      "1             -74.045572  44989  Subscriber        1996      1  \n",
      "2             -74.044247  41696  Subscriber        1984      2  \n",
      "3             -74.043845  42310    Customer        1993      1  \n",
      "4             -74.043845  42346    Customer        1995      2  \n",
      "\n",
      "[5 rows x 90 columns]\n"
     ]
    }
   ],
   "source": [
    "import os \n",
    "import sys \n",
    "import numpy as np\n",
    "import pandas as pd\n",
    "import matplotlib.pyplot as plt\n",
    "\n",
    "\n",
    "#2019\n",
    "marchdf19 = pd.read_csv('../Columbia/march_citibike19.csv')\n",
    "aprildf19 = pd.read_csv(\"../Columbia/april_citibike19.csv\")\n",
    "maydf19 = pd.read_csv('../Columbia/may_citibike19.csv')\n",
    "junedf19 = pd.read_csv(\"../Columbia/june_citibike19.csv\")\n",
    "julydf19 = pd.read_csv('../Columbia/july_citibike19.csv')\n",
    "augdf19 = pd.read_csv(\"../Columbia/aug_citibike19.csv\")\n",
    "\n",
    "\n",
    "#2020\n",
    "marchdf20 = pd.read_csv('../Columbia/march_citibike20.csv')\n",
    "aprildf20 = pd.read_csv(\"../Columbia/april_citibike20.csv\")\n",
    "maydf20 = pd.read_csv('../Columbia/may_citibike20.csv')\n",
    "junedf20 = pd.read_csv(\"../Columbia/june_citibike20.csv\")\n",
    "julydf20 = pd.read_csv('../Columbia/july_citibike20.csv')\n",
    "augdf20 = pd.read_csv(\"../Columbia/aug_citibike20.csv\")\n",
    "\n",
    "\n",
    "\n",
    "df19 = pd.concat([marchdf19, aprildf19, maydf19, junedf19, julydf19, augdf19], axis=1, join='inner').sort_index()\n",
    "\n",
    "df20 = pd.concat([marchdf20, aprildf20, maydf20, junedf20, julydf20, augdf20], axis=1, join='inner').sort_index()\n",
    "\n",
    "\n",
    "\n",
    "print(df20.head())\n",
    "\n",
    "\n"
   ]
  },
  {
   "cell_type": "code",
   "execution_count": null,
   "metadata": {},
   "outputs": [],
   "source": []
  },
  {
   "cell_type": "code",
   "execution_count": null,
   "metadata": {},
   "outputs": [],
   "source": []
  }
 ],
 "metadata": {
  "kernelspec": {
   "display_name": "Python 3",
   "language": "python",
   "name": "python3"
  },
  "language_info": {
   "codemirror_mode": {
    "name": "ipython",
    "version": 3
   },
   "file_extension": ".py",
   "mimetype": "text/x-python",
   "name": "python",
   "nbconvert_exporter": "python",
   "pygments_lexer": "ipython3",
   "version": "3.8.3"
  }
 },
 "nbformat": 4,
 "nbformat_minor": 4
}
